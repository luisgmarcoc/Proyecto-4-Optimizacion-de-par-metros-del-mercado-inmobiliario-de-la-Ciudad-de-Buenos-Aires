{
 "cells": [
  {
   "cell_type": "markdown",
   "metadata": {},
   "source": [
    "# MiniProyecto 4: Optimización de parámetros"
   ]
  },
  {
   "cell_type": "markdown",
   "metadata": {},
   "source": [
    "¡Bienvenidos al cuarto (mini)proyecto de la carrera de Data Science de Acamica! \n",
    "\n",
    "En este proyecto vamos a seguir trabajando (por última vez) con el dataset de propiedades en venta publicadas en el portal [Properati](www.properati.com.ar). El objetivo en este caso es optimizar los parámetros de los algoritmos que usamos en el proyecto pasado.\n",
    "\n",
    "El dataset es el mismo del proyecto 3. Recordemos que las columnas que se agregan son:\n",
    "\n",
    "* `barrios_match`: si coincide el barrio publicado con el geográfico vale 1, si no 0.\n",
    "\n",
    "* `PH`, `apartment`, `house`: variables binarias que indican el tipo de propiedad.\n",
    "\n",
    "* dummies de barrios: variables binarias con 1 o 0 según el barrio.\n",
    "\n",
    "La métrica que vamos a usar para medir es RMSE (raíz del error cuadréatico medio), cuya fórmula es:\n",
    "\n",
    "$$RMSE = \\sqrt{\\frac{\\sum_{t=1}^n (\\hat y_t - y_t)^2}{n}}$$"
   ]
  },
  {
   "cell_type": "markdown",
   "metadata": {},
   "source": [
    "## Pandas - Levantamos el dataset"
   ]
  },
  {
   "cell_type": "code",
   "execution_count": 1,
   "metadata": {},
   "outputs": [],
   "source": [
    "import pandas as pd\n",
    "pd.set_option('display.float_format', lambda x: '%.3f' % x)\n",
    "path_dataset = 'dataset/datos_properati_limpios_model.csv'\n",
    "df = pd.read_csv(path_dataset)"
   ]
  },
  {
   "cell_type": "markdown",
   "metadata": {},
   "source": [
    "**Separá** el dataset en entrenamiento (80%) y test (20%) utilizando como target la columna `price_aprox_usd`"
   ]
  },
  {
   "cell_type": "code",
   "execution_count": 2,
   "metadata": {},
   "outputs": [
    {
     "name": "stdout",
     "output_type": "stream",
     "text": [
      "5100 1276\n"
     ]
    }
   ],
   "source": [
    "# Hacé la separación en esta celda\n",
    "import numpy as np\n",
    "from sklearn.model_selection import train_test_split \n",
    "X = df.drop(['price_aprox_usd'], axis=1)\n",
    "y = df['price_aprox_usd']\n",
    "X_train, X_test, y_train, y_test = train_test_split(X,y, test_size=0.2)\n",
    "print(X_train.shape[0], X_test.shape[0])"
   ]
  },
  {
   "cell_type": "markdown",
   "metadata": {},
   "source": [
    "## Scikit-learn - Entrenamiento"
   ]
  },
  {
   "cell_type": "markdown",
   "metadata": {},
   "source": [
    "Para repasar los parámetros de árboles de decisión en Scikit-learn: \n",
    "\n",
    "http://scikit-learn.org/stable/modules/generated/sklearn.tree.DecisionTreeRegressor.html"
   ]
  },
  {
   "cell_type": "markdown",
   "metadata": {},
   "source": [
    "En primer lugar veamos como hacer cross validation. Para eso necesitamos definir la cantidad de folds, en este caso vamos a usar 5.\n",
    "\n",
    "GridSearchCV nos permite testear a través de un espacio de búsqueda de parámetros la mejor combinación posible dado un estimador.\n",
    "\n",
    "Por ejemplo, en este caso probamos la profundidad máxima y la máxima cantidad de features para hacer los split. Ambos entre 1 y 5.\n",
    "Recordemos que para hacer la optimización scikit-learn usa la métrica `neg_mean_squared_error` en lugar de `mean_squared_error`."
   ]
  },
  {
   "cell_type": "markdown",
   "metadata": {},
   "source": [
    "**Creá** una variable `param_grid` con valores del 1 al 5 para los atributos `max_depth` y `max_features`. "
   ]
  },
  {
   "cell_type": "code",
   "execution_count": 3,
   "metadata": {},
   "outputs": [],
   "source": [
    "# Creá en esta celda la variable param_grid\n",
    "from sklearn.model_selection import GridSearchCV\n",
    "from sklearn.tree import DecisionTreeRegressor\n",
    "param_grid = [\n",
    "    {'max_depth': [1,2, 3, 4,5], 'max_features': [1,2, 3, 4,5]},\n",
    "]"
   ]
  },
  {
   "cell_type": "markdown",
   "metadata": {},
   "source": [
    "**Importá** `GridSearchCV` y `DecisionTreeRegressor`.\n",
    "\n",
    "**Creá** una variable `grid_search` y asignale un `GridSearchCV` que recorra el `param_grid` que creaste con el algoritmos `DecisionTreeRegressor` y el un scoring de `neg_mean_squared_error`"
   ]
  },
  {
   "cell_type": "code",
   "execution_count": 4,
   "metadata": {},
   "outputs": [],
   "source": [
    "# Importa y crea un GridSearchCV en esta celda\n",
    "tree_reg = DecisionTreeRegressor()\n",
    "grid_search = GridSearchCV(tree_reg, param_grid, cv=5,\n",
    "                           scoring='neg_mean_squared_error', \n",
    "                           return_train_score=True)"
   ]
  },
  {
   "cell_type": "markdown",
   "metadata": {},
   "source": [
    "A continuación, realizá el `fit` del `grid_search` con el conjunto de entrenamiento"
   ]
  },
  {
   "cell_type": "code",
   "execution_count": 5,
   "metadata": {},
   "outputs": [
    {
     "data": {
      "text/plain": [
       "GridSearchCV(cv=5, error_score='raise-deprecating',\n",
       "             estimator=DecisionTreeRegressor(criterion='mse', max_depth=None,\n",
       "                                             max_features=None,\n",
       "                                             max_leaf_nodes=None,\n",
       "                                             min_impurity_decrease=0.0,\n",
       "                                             min_impurity_split=None,\n",
       "                                             min_samples_leaf=1,\n",
       "                                             min_samples_split=2,\n",
       "                                             min_weight_fraction_leaf=0.0,\n",
       "                                             presort=False, random_state=None,\n",
       "                                             splitter='best'),\n",
       "             iid='warn', n_jobs=None,\n",
       "             param_grid=[{'max_depth': [1, 2, 3, 4, 5],\n",
       "                          'max_features': [1, 2, 3, 4, 5]}],\n",
       "             pre_dispatch='2*n_jobs', refit=True, return_train_score=True,\n",
       "             scoring='neg_mean_squared_error', verbose=0)"
      ]
     },
     "execution_count": 5,
     "metadata": {},
     "output_type": "execute_result"
    }
   ],
   "source": [
    "# Hace el fit de grid search en esta celda\n",
    "grid_search.fit(X_train, y_train)"
   ]
  },
  {
   "cell_type": "markdown",
   "metadata": {},
   "source": [
    "Revisemos los resultados. Recordemos que no están expresados en RMSE."
   ]
  },
  {
   "cell_type": "code",
   "execution_count": 8,
   "metadata": {},
   "outputs": [
    {
     "data": {
      "text/plain": [
       "make_scorer(mean_squared_error, greater_is_better=False)"
      ]
     },
     "execution_count": 8,
     "metadata": {},
     "output_type": "execute_result"
    }
   ],
   "source": [
    "grid_search.scorer_"
   ]
  },
  {
   "cell_type": "markdown",
   "metadata": {},
   "source": [
    "**Mostrá** los `grid_scores` obtenidos durante el `grid_search`"
   ]
  },
  {
   "cell_type": "code",
   "execution_count": 9,
   "metadata": {},
   "outputs": [
    {
     "data": {
      "text/plain": [
       "array([31307.36740377, 31096.97581302, 31064.6137871 , 31237.85621584,\n",
       "       29543.42847446, 30354.24988877, 31070.22714981, 30186.81600125,\n",
       "       31110.48903673, 30073.87983227, 31204.30195365, 29542.72603594,\n",
       "       28992.64069996, 29814.23910269, 27235.50558466, 30174.49318726,\n",
       "       28955.31265446, 29972.16490805, 28442.74649968, 28132.31458905,\n",
       "       29704.90652173, 28910.31533579, 28769.10611045, 28687.20667287,\n",
       "       26962.71662975])"
      ]
     },
     "execution_count": 9,
     "metadata": {},
     "output_type": "execute_result"
    }
   ],
   "source": [
    "np.sqrt(-grid_search.cv_results_['mean_train_score'])"
   ]
  },
  {
   "cell_type": "code",
   "execution_count": 10,
   "metadata": {},
   "outputs": [
    {
     "data": {
      "text/plain": [
       "array([31320.72531343, 31111.1544259 , 31080.04559342, 31268.87658358,\n",
       "       29650.88912907, 30461.00488424, 31119.15138626, 30183.54118705,\n",
       "       31185.53646704, 30172.23067716, 31261.66299884, 29476.78667774,\n",
       "       29115.49541057, 29960.36695567, 27456.69184855, 30404.50845312,\n",
       "       29092.67636526, 30250.43118664, 28782.06379496, 28276.95181572,\n",
       "       30001.91371718, 29169.31133948, 28785.99914748, 28821.77032657,\n",
       "       27297.10898615])"
      ]
     },
     "execution_count": 10,
     "metadata": {},
     "output_type": "execute_result"
    }
   ],
   "source": [
    "np.sqrt(-grid_search.cv_results_['mean_test_score'])"
   ]
  },
  {
   "cell_type": "code",
   "execution_count": 11,
   "metadata": {},
   "outputs": [
    {
     "data": {
      "text/plain": [
       "{'max_depth': 5, 'max_features': 5}"
      ]
     },
     "execution_count": 11,
     "metadata": {},
     "output_type": "execute_result"
    }
   ],
   "source": [
    "# Mostrá los grid_scores en esta celda\n",
    "grid_search.best_params_"
   ]
  },
  {
   "cell_type": "markdown",
   "metadata": {},
   "source": [
    "De esta manera, el valor con mejor resultado (dado el espacio de búsqueda definido) es `max_depth` 3 y `max_features` 3."
   ]
  },
  {
   "cell_type": "markdown",
   "metadata": {},
   "source": [
    "**Mostrá** el mejor score y los mejores parámetros encontrados por `grid_search`"
   ]
  },
  {
   "cell_type": "code",
   "execution_count": 12,
   "metadata": {},
   "outputs": [
    {
     "data": {
      "text/plain": [
       "array([-9.80151254e+08, -9.67021905e+08, -9.65010230e+08, -9.75803661e+08,\n",
       "       -8.72814166e+08, -9.21380486e+08, -9.65359015e+08, -9.11243860e+08,\n",
       "       -9.67862528e+08, -9.04438248e+08, -9.73708460e+08, -8.72772662e+08,\n",
       "       -8.40573215e+08, -8.88888853e+08, -7.41772764e+08, -9.10500039e+08,\n",
       "       -8.38410131e+08, -8.98330669e+08, -8.08989828e+08, -7.91427124e+08,\n",
       "       -8.82381471e+08, -8.35806333e+08, -8.27661466e+08, -8.22955827e+08,\n",
       "       -7.26988088e+08])"
      ]
     },
     "execution_count": 12,
     "metadata": {},
     "output_type": "execute_result"
    }
   ],
   "source": [
    "# Mostrás los resultados en esta celda\n",
    "grid_search.cv_results_['mean_train_score']"
   ]
  },
  {
   "cell_type": "markdown",
   "metadata": {},
   "source": [
    "Convertimos a RMSE."
   ]
  },
  {
   "cell_type": "code",
   "execution_count": 16,
   "metadata": {},
   "outputs": [],
   "source": [
    "def nmsq2rmse(score):\n",
    "    return np.round(np.sqrt(-score), 2)"
   ]
  },
  {
   "cell_type": "code",
   "execution_count": 17,
   "metadata": {},
   "outputs": [
    {
     "name": "stdout",
     "output_type": "stream",
     "text": [
      "Best Scores_RMSE: 27297.11\n"
     ]
    }
   ],
   "source": [
    "grid_search.best_score_  \n",
    "print(\"Best Scores_RMSE:\", nmsq2rmse(grid_search.best_score_))"
   ]
  },
  {
   "cell_type": "markdown",
   "metadata": {},
   "source": [
    "__Encontrar el mejor modelo para el espacio de búsqueda dado__\n",
    "\n",
    "* `\"min_samples_split\": [2, 10, 20]`\n",
    "* `\"max_depth\": [None, 2, 5, 10, 15]`\n",
    "* `\"min_samples_leaf\": [1, 5, 10, 15]`\n",
    "* `\"max_leaf_nodes\": [None, 5, 10, 20]`"
   ]
  },
  {
   "cell_type": "code",
   "execution_count": 18,
   "metadata": {},
   "outputs": [],
   "source": [
    "# Creá en esta celda la variable param_grid\n",
    "from sklearn.model_selection import GridSearchCV\n",
    "from sklearn.tree import DecisionTreeRegressor\n",
    "param_grid = [\n",
    "    {'min_samples_split': [2, 10, 20], 'max_depth': [None, 2, 5, 10, 15],\n",
    "     'min_samples_leaf': [1, 5, 10, 15], 'max_leaf_nodes': [None, 5, 10, 20]},\n",
    "]"
   ]
  },
  {
   "cell_type": "code",
   "execution_count": 19,
   "metadata": {},
   "outputs": [],
   "source": [
    "tree_reg = DecisionTreeRegressor()\n",
    "grid_search = GridSearchCV(tree_reg, param_grid, cv=5,\n",
    "                           scoring='neg_mean_squared_error', \n",
    "                           return_train_score=True)"
   ]
  },
  {
   "cell_type": "code",
   "execution_count": 20,
   "metadata": {},
   "outputs": [
    {
     "data": {
      "text/plain": [
       "GridSearchCV(cv=5, error_score='raise-deprecating',\n",
       "             estimator=DecisionTreeRegressor(criterion='mse', max_depth=None,\n",
       "                                             max_features=None,\n",
       "                                             max_leaf_nodes=None,\n",
       "                                             min_impurity_decrease=0.0,\n",
       "                                             min_impurity_split=None,\n",
       "                                             min_samples_leaf=1,\n",
       "                                             min_samples_split=2,\n",
       "                                             min_weight_fraction_leaf=0.0,\n",
       "                                             presort=False, random_state=None,\n",
       "                                             splitter='best'),\n",
       "             iid='warn', n_jobs=None,\n",
       "             param_grid=[{'max_depth': [None, 2, 5, 10, 15],\n",
       "                          'max_leaf_nodes': [None, 5, 10, 20],\n",
       "                          'min_samples_leaf': [1, 5, 10, 15],\n",
       "                          'min_samples_split': [2, 10, 20]}],\n",
       "             pre_dispatch='2*n_jobs', refit=True, return_train_score=True,\n",
       "             scoring='neg_mean_squared_error', verbose=0)"
      ]
     },
     "execution_count": 20,
     "metadata": {},
     "output_type": "execute_result"
    }
   ],
   "source": [
    "grid_search.fit(X_train, y_train)"
   ]
  },
  {
   "cell_type": "code",
   "execution_count": 21,
   "metadata": {},
   "outputs": [
    {
     "data": {
      "text/plain": [
       "make_scorer(mean_squared_error, greater_is_better=False)"
      ]
     },
     "execution_count": 21,
     "metadata": {},
     "output_type": "execute_result"
    }
   ],
   "source": [
    "grid_search.scorer_"
   ]
  },
  {
   "cell_type": "code",
   "execution_count": 22,
   "metadata": {},
   "outputs": [
    {
     "data": {
      "text/plain": [
       "array([  483.1111576 , 10637.6897186 , 14236.53900024, 13719.82029512,\n",
       "       13722.14534468, 15600.0029534 , 16682.35193361, 16682.35193361,\n",
       "       16682.35193361, 17887.77221277, 17887.77221277, 17887.77221277,\n",
       "       24292.04536038, 24292.04536038, 24292.04536038, 24292.04536038,\n",
       "       24292.04536038, 24292.04536038, 24292.04536038, 24292.04536038,\n",
       "       24292.04536038, 24292.04536038, 24292.04536038, 24292.04536038,\n",
       "       22340.71376253, 22340.71376253, 22340.71376253, 22340.71376253,\n",
       "       22340.71376253, 22340.71376253, 22340.71376253, 22340.71376253,\n",
       "       22340.71376253, 22340.71376253, 22340.71376253, 22340.71376253,\n",
       "       21308.29344367, 21308.29344367, 21308.29344367, 21311.51960742,\n",
       "       21311.51960742, 21311.51960742, 21313.68804818, 21313.68804818,\n",
       "       21313.68804818, 21319.31187285, 21319.31187285, 21319.31187285,\n",
       "       24910.50273428, 24910.50273428, 24910.50273428, 24910.50273428,\n",
       "       24910.50273428, 24910.50273428, 24910.50273428, 24910.50273428,\n",
       "       24910.50273428, 24910.50273428, 24910.50273428, 24910.50273428,\n",
       "       24910.50273428, 24910.50273428, 24910.50273428, 24910.50273428,\n",
       "       24910.50273428, 24910.50273428, 24910.50273428, 24910.50273428,\n",
       "       24910.50273428, 24910.50273428, 24910.50273428, 24910.50273428,\n",
       "       24910.50273428, 24910.50273428, 24910.50273428, 24910.50273428,\n",
       "       24910.50273428, 24910.50273428, 24910.50273428, 24910.50273428,\n",
       "       24910.50273428, 24910.50273428, 24910.50273428, 24910.50273428,\n",
       "       24910.50273428, 24910.50273428, 24910.50273428, 24910.50273428,\n",
       "       24910.50273428, 24910.50273428, 24910.50273428, 24910.50273428,\n",
       "       24910.50273428, 24910.50273428, 24910.50273428, 24910.50273428,\n",
       "       21099.63523409, 21100.02727793, 21100.02727793, 21148.43368833,\n",
       "       21148.43368833, 21149.00569659, 21151.81074221, 21151.81074221,\n",
       "       21151.81074221, 21171.56642293, 21171.56642293, 21171.56642293,\n",
       "       24292.04536038, 24292.04536038, 24292.04536038, 24292.04536038,\n",
       "       24292.04536038, 24292.04536038, 24292.04536038, 24292.04536038,\n",
       "       24292.04536038, 24292.04536038, 24292.04536038, 24292.04536038,\n",
       "       22340.71376253, 22340.71376253, 22340.71376253, 22340.71376253,\n",
       "       22340.71376253, 22340.71376253, 22340.71376253, 22340.71376253,\n",
       "       22340.71376253, 22340.71376253, 22340.71376253, 22340.71376253,\n",
       "       21414.24063689, 21414.24063689, 21414.24063689, 21425.39829126,\n",
       "       21425.39829126, 21425.39829126, 21425.46877668, 21425.46877668,\n",
       "       21425.46877668, 21428.44916615, 21428.44916615, 21428.44916615,\n",
       "       15204.99036544, 16013.68879377, 16813.62187771, 16474.5409011 ,\n",
       "       16474.5409011 , 17179.4393272 , 17565.93533133, 17565.93533133,\n",
       "       17565.93533133, 18247.68028666, 18247.68028666, 18247.68028666,\n",
       "       24292.04536038, 24292.04536038, 24292.04536038, 24292.04536038,\n",
       "       24292.04536038, 24292.04536038, 24292.04536038, 24292.04536038,\n",
       "       24292.04536038, 24292.04536038, 24292.04536038, 24292.04536038,\n",
       "       22340.71376253, 22340.71376253, 22340.71376253, 22340.71376253,\n",
       "       22340.71376253, 22340.71376253, 22340.71376253, 22340.71376253,\n",
       "       22340.71376253, 22340.71376253, 22340.71376253, 22340.71376253,\n",
       "       21308.29344367, 21308.29344367, 21308.29344367, 21311.51960742,\n",
       "       21311.51960742, 21311.51960742, 21313.68804818, 21313.68804818,\n",
       "       21313.68804818, 21319.31187285, 21319.31187285, 21319.31187285,\n",
       "        8030.35435714, 12051.80190458, 14713.17243805, 14105.82863658,\n",
       "       14107.62300545, 15781.59585598, 16726.39392563, 16726.39392563,\n",
       "       16726.39392563, 17904.76084611, 17904.76084611, 17904.76084611,\n",
       "       24292.04536038, 24292.04536038, 24292.04536038, 24292.04536038,\n",
       "       24292.04536038, 24292.04536038, 24292.04536038, 24292.04536038,\n",
       "       24292.04536038, 24292.04536038, 24292.04536038, 24292.04536038,\n",
       "       22340.71376253, 22340.71376253, 22340.71376253, 22340.71376253,\n",
       "       22340.71376253, 22340.71376253, 22340.71376253, 22340.71376253,\n",
       "       22340.71376253, 22340.71376253, 22340.71376253, 22340.71376253,\n",
       "       21308.29344367, 21308.29344367, 21308.29344367, 21311.51960742,\n",
       "       21311.51960742, 21311.51960742, 21313.68804818, 21313.68804818,\n",
       "       21313.68804818, 21319.31187285, 21319.31187285, 21319.31187285])"
      ]
     },
     "execution_count": 22,
     "metadata": {},
     "output_type": "execute_result"
    }
   ],
   "source": [
    "np.sqrt(-grid_search.cv_results_['mean_train_score'])"
   ]
  },
  {
   "cell_type": "code",
   "execution_count": 23,
   "metadata": {},
   "outputs": [
    {
     "data": {
      "text/plain": [
       "array([25631.96984368, 23973.13752708, 22524.14224204, 22971.34677827,\n",
       "       22978.35993374, 22163.02894719, 21709.06693172, 21721.03806477,\n",
       "       21716.58415239, 21578.25579436, 21578.25579436, 21578.25579436,\n",
       "       24458.2389823 , 24458.2389823 , 24458.2389823 , 24458.2389823 ,\n",
       "       24458.2389823 , 24458.2389823 , 24458.2389823 , 24458.2389823 ,\n",
       "       24458.2389823 , 24458.2389823 , 24458.2389823 , 24458.2389823 ,\n",
       "       22807.05480143, 22807.05480143, 22807.05480143, 22807.05480143,\n",
       "       22807.05480143, 22807.05480143, 22807.05480143, 22807.05480143,\n",
       "       22807.05480143, 22807.05480143, 22807.05480143, 22807.05480143,\n",
       "       22282.42857879, 22282.42857879, 22282.42857879, 22273.60463086,\n",
       "       22273.60463086, 22273.60463086, 22251.38830455, 22251.38830455,\n",
       "       22251.38830455, 22240.61653214, 22240.61653214, 22240.61653214,\n",
       "       24966.89079942, 24966.89079942, 24966.89079942, 24966.89079942,\n",
       "       24966.89079942, 24966.89079942, 24966.89079942, 24966.89079942,\n",
       "       24966.89079942, 24966.89079942, 24966.89079942, 24966.89079942,\n",
       "       24966.89079942, 24966.89079942, 24966.89079942, 24966.89079942,\n",
       "       24966.89079942, 24966.89079942, 24966.89079942, 24966.89079942,\n",
       "       24966.89079942, 24966.89079942, 24966.89079942, 24966.89079942,\n",
       "       24966.89079942, 24966.89079942, 24966.89079942, 24966.89079942,\n",
       "       24966.89079942, 24966.89079942, 24966.89079942, 24966.89079942,\n",
       "       24966.89079942, 24966.89079942, 24966.89079942, 24966.89079942,\n",
       "       24966.89079942, 24966.89079942, 24966.89079942, 24966.89079942,\n",
       "       24966.89079942, 24966.89079942, 24966.89079942, 24966.89079942,\n",
       "       24966.89079942, 24966.89079942, 24966.89079942, 24966.89079942,\n",
       "       22165.30152998, 22165.30152998, 22165.30152998, 22149.79672894,\n",
       "       22149.79672894, 22150.0436405 , 22173.78700268, 22173.78700268,\n",
       "       22173.78700268, 22173.90751377, 22173.90751377, 22173.90751377,\n",
       "       24458.2389823 , 24458.2389823 , 24458.2389823 , 24458.2389823 ,\n",
       "       24458.2389823 , 24458.2389823 , 24458.2389823 , 24458.2389823 ,\n",
       "       24458.2389823 , 24458.2389823 , 24458.2389823 , 24458.2389823 ,\n",
       "       22807.05480143, 22807.05480143, 22807.05480143, 22807.05480143,\n",
       "       22807.05480143, 22807.05480143, 22807.05480143, 22807.05480143,\n",
       "       22807.05480143, 22807.05480143, 22807.05480143, 22807.05480143,\n",
       "       22289.55199049, 22289.55199049, 22289.55199049, 22320.74312575,\n",
       "       22320.74312575, 22320.74312575, 22320.15089563, 22320.15089563,\n",
       "       22320.15089563, 22352.58016051, 22352.58016051, 22352.58016051,\n",
       "       22816.27769352, 22315.34314134, 21913.30911515, 22178.84183942,\n",
       "       22165.4294562 , 21882.0506513 , 21566.20276166, 21566.20276166,\n",
       "       21554.14563354, 21491.94815855, 21491.94815855, 21491.94815855,\n",
       "       24458.2389823 , 24458.2389823 , 24458.2389823 , 24458.2389823 ,\n",
       "       24458.2389823 , 24458.2389823 , 24458.2389823 , 24458.2389823 ,\n",
       "       24458.2389823 , 24458.2389823 , 24458.2389823 , 24458.2389823 ,\n",
       "       22807.05480143, 22807.05480143, 22807.05480143, 22807.05480143,\n",
       "       22807.05480143, 22807.05480143, 22807.05480143, 22807.05480143,\n",
       "       22807.05480143, 22807.05480143, 22807.05480143, 22807.05480143,\n",
       "       22282.42857879, 22282.42857879, 22282.42857879, 22273.60463086,\n",
       "       22273.60463086, 22273.60463086, 22251.38830455, 22251.38830455,\n",
       "       22251.38830455, 22240.61653214, 22240.61653214, 22240.61653214,\n",
       "       24714.23626284, 23474.60441825, 22357.08894507, 22835.14071795,\n",
       "       22856.16040137, 22121.17651533, 21733.07549648, 21745.03341227,\n",
       "       21741.670335  , 21587.61704836, 21587.61704836, 21587.61704836,\n",
       "       24458.2389823 , 24458.2389823 , 24458.2389823 , 24458.2389823 ,\n",
       "       24458.2389823 , 24458.2389823 , 24458.2389823 , 24458.2389823 ,\n",
       "       24458.2389823 , 24458.2389823 , 24458.2389823 , 24458.2389823 ,\n",
       "       22807.05480143, 22807.05480143, 22807.05480143, 22807.05480143,\n",
       "       22807.05480143, 22807.05480143, 22807.05480143, 22807.05480143,\n",
       "       22807.05480143, 22807.05480143, 22807.05480143, 22807.05480143,\n",
       "       22282.42857879, 22282.42857879, 22282.42857879, 22273.60463086,\n",
       "       22273.60463086, 22273.60463086, 22251.38830455, 22251.38830455,\n",
       "       22251.38830455, 22240.61653214, 22240.61653214, 22240.61653214])"
      ]
     },
     "execution_count": 23,
     "metadata": {},
     "output_type": "execute_result"
    }
   ],
   "source": [
    "np.sqrt(-grid_search.cv_results_['mean_test_score'])"
   ]
  },
  {
   "cell_type": "code",
   "execution_count": 24,
   "metadata": {},
   "outputs": [
    {
     "data": {
      "text/plain": [
       "{'max_depth': 10,\n",
       " 'max_leaf_nodes': None,\n",
       " 'min_samples_leaf': 15,\n",
       " 'min_samples_split': 2}"
      ]
     },
     "execution_count": 24,
     "metadata": {},
     "output_type": "execute_result"
    }
   ],
   "source": [
    "grid_search.best_params_"
   ]
  },
  {
   "cell_type": "code",
   "execution_count": 25,
   "metadata": {},
   "outputs": [
    {
     "data": {
      "text/plain": [
       "array([-2.33396391e+05, -1.13160443e+08, -2.02679043e+08, -1.88233469e+08,\n",
       "       -1.88297273e+08, -2.43360092e+08, -2.78300866e+08, -2.78300866e+08,\n",
       "       -2.78300866e+08, -3.19972395e+08, -3.19972395e+08, -3.19972395e+08,\n",
       "       -5.90103468e+08, -5.90103468e+08, -5.90103468e+08, -5.90103468e+08,\n",
       "       -5.90103468e+08, -5.90103468e+08, -5.90103468e+08, -5.90103468e+08,\n",
       "       -5.90103468e+08, -5.90103468e+08, -5.90103468e+08, -5.90103468e+08,\n",
       "       -4.99107491e+08, -4.99107491e+08, -4.99107491e+08, -4.99107491e+08,\n",
       "       -4.99107491e+08, -4.99107491e+08, -4.99107491e+08, -4.99107491e+08,\n",
       "       -4.99107491e+08, -4.99107491e+08, -4.99107491e+08, -4.99107491e+08,\n",
       "       -4.54043369e+08, -4.54043369e+08, -4.54043369e+08, -4.54180868e+08,\n",
       "       -4.54180868e+08, -4.54180868e+08, -4.54273298e+08, -4.54273298e+08,\n",
       "       -4.54273298e+08, -4.54513059e+08, -4.54513059e+08, -4.54513059e+08,\n",
       "       -6.20533146e+08, -6.20533146e+08, -6.20533146e+08, -6.20533146e+08,\n",
       "       -6.20533146e+08, -6.20533146e+08, -6.20533146e+08, -6.20533146e+08,\n",
       "       -6.20533146e+08, -6.20533146e+08, -6.20533146e+08, -6.20533146e+08,\n",
       "       -6.20533146e+08, -6.20533146e+08, -6.20533146e+08, -6.20533146e+08,\n",
       "       -6.20533146e+08, -6.20533146e+08, -6.20533146e+08, -6.20533146e+08,\n",
       "       -6.20533146e+08, -6.20533146e+08, -6.20533146e+08, -6.20533146e+08,\n",
       "       -6.20533146e+08, -6.20533146e+08, -6.20533146e+08, -6.20533146e+08,\n",
       "       -6.20533146e+08, -6.20533146e+08, -6.20533146e+08, -6.20533146e+08,\n",
       "       -6.20533146e+08, -6.20533146e+08, -6.20533146e+08, -6.20533146e+08,\n",
       "       -6.20533146e+08, -6.20533146e+08, -6.20533146e+08, -6.20533146e+08,\n",
       "       -6.20533146e+08, -6.20533146e+08, -6.20533146e+08, -6.20533146e+08,\n",
       "       -6.20533146e+08, -6.20533146e+08, -6.20533146e+08, -6.20533146e+08,\n",
       "       -4.45194607e+08, -4.45211151e+08, -4.45211151e+08, -4.47256247e+08,\n",
       "       -4.47256247e+08, -4.47280442e+08, -4.47399098e+08, -4.47399098e+08,\n",
       "       -4.47399098e+08, -4.48235225e+08, -4.48235225e+08, -4.48235225e+08,\n",
       "       -5.90103468e+08, -5.90103468e+08, -5.90103468e+08, -5.90103468e+08,\n",
       "       -5.90103468e+08, -5.90103468e+08, -5.90103468e+08, -5.90103468e+08,\n",
       "       -5.90103468e+08, -5.90103468e+08, -5.90103468e+08, -5.90103468e+08,\n",
       "       -4.99107491e+08, -4.99107491e+08, -4.99107491e+08, -4.99107491e+08,\n",
       "       -4.99107491e+08, -4.99107491e+08, -4.99107491e+08, -4.99107491e+08,\n",
       "       -4.99107491e+08, -4.99107491e+08, -4.99107491e+08, -4.99107491e+08,\n",
       "       -4.58569702e+08, -4.58569702e+08, -4.58569702e+08, -4.59047692e+08,\n",
       "       -4.59047692e+08, -4.59047692e+08, -4.59050712e+08, -4.59050712e+08,\n",
       "       -4.59050712e+08, -4.59178434e+08, -4.59178434e+08, -4.59178434e+08,\n",
       "       -2.31191732e+08, -2.56438229e+08, -2.82697881e+08, -2.71410498e+08,\n",
       "       -2.71410498e+08, -2.95133136e+08, -3.08562084e+08, -3.08562084e+08,\n",
       "       -3.08562084e+08, -3.32977836e+08, -3.32977836e+08, -3.32977836e+08,\n",
       "       -5.90103468e+08, -5.90103468e+08, -5.90103468e+08, -5.90103468e+08,\n",
       "       -5.90103468e+08, -5.90103468e+08, -5.90103468e+08, -5.90103468e+08,\n",
       "       -5.90103468e+08, -5.90103468e+08, -5.90103468e+08, -5.90103468e+08,\n",
       "       -4.99107491e+08, -4.99107491e+08, -4.99107491e+08, -4.99107491e+08,\n",
       "       -4.99107491e+08, -4.99107491e+08, -4.99107491e+08, -4.99107491e+08,\n",
       "       -4.99107491e+08, -4.99107491e+08, -4.99107491e+08, -4.99107491e+08,\n",
       "       -4.54043369e+08, -4.54043369e+08, -4.54043369e+08, -4.54180868e+08,\n",
       "       -4.54180868e+08, -4.54180868e+08, -4.54273298e+08, -4.54273298e+08,\n",
       "       -4.54273298e+08, -4.54513059e+08, -4.54513059e+08, -4.54513059e+08,\n",
       "       -6.44865911e+07, -1.45245929e+08, -2.16477443e+08, -1.98974402e+08,\n",
       "       -1.99025027e+08, -2.49058768e+08, -2.79772254e+08, -2.79772254e+08,\n",
       "       -2.79772254e+08, -3.20580461e+08, -3.20580461e+08, -3.20580461e+08,\n",
       "       -5.90103468e+08, -5.90103468e+08, -5.90103468e+08, -5.90103468e+08,\n",
       "       -5.90103468e+08, -5.90103468e+08, -5.90103468e+08, -5.90103468e+08,\n",
       "       -5.90103468e+08, -5.90103468e+08, -5.90103468e+08, -5.90103468e+08,\n",
       "       -4.99107491e+08, -4.99107491e+08, -4.99107491e+08, -4.99107491e+08,\n",
       "       -4.99107491e+08, -4.99107491e+08, -4.99107491e+08, -4.99107491e+08,\n",
       "       -4.99107491e+08, -4.99107491e+08, -4.99107491e+08, -4.99107491e+08,\n",
       "       -4.54043369e+08, -4.54043369e+08, -4.54043369e+08, -4.54180868e+08,\n",
       "       -4.54180868e+08, -4.54180868e+08, -4.54273298e+08, -4.54273298e+08,\n",
       "       -4.54273298e+08, -4.54513059e+08, -4.54513059e+08, -4.54513059e+08])"
      ]
     },
     "execution_count": 25,
     "metadata": {},
     "output_type": "execute_result"
    }
   ],
   "source": [
    "grid_search.cv_results_['mean_train_score']"
   ]
  },
  {
   "cell_type": "code",
   "execution_count": 28,
   "metadata": {},
   "outputs": [
    {
     "name": "stdout",
     "output_type": "stream",
     "text": [
      "Best Scores_RMSE: 21491.95\n"
     ]
    }
   ],
   "source": [
    "grid_search.best_score_ \n",
    "print(\"Best Scores_RMSE:\", nmsq2rmse(grid_search.best_score_))"
   ]
  },
  {
   "cell_type": "markdown",
   "metadata": {},
   "source": [
    "Recordemos que `GridSearchCV` tiene como parámetro default `refit=True`. Esto significa que luego de hacer la corrida se ajusta el mejor modelo al conjunto de datos de entrada. De esta manera, se puede predecir directamente usando `best_estimator_`."
   ]
  },
  {
   "cell_type": "code",
   "execution_count": 29,
   "metadata": {},
   "outputs": [],
   "source": [
    "optimised_decision_tree = grid_search.best_estimator_"
   ]
  },
  {
   "cell_type": "markdown",
   "metadata": {},
   "source": [
    "## Probando el RandomizedSearch "
   ]
  },
  {
   "cell_type": "code",
   "execution_count": 33,
   "metadata": {},
   "outputs": [],
   "source": [
    "from sklearn.model_selection import RandomizedSearchCV\n",
    "from scipy.stats import randint as sp_randint\n",
    "param_grid = {'max_depth': [1,2, 3, 4,5], 'max_features': [1,2, 3, 4,5]}"
   ]
  },
  {
   "cell_type": "code",
   "execution_count": 34,
   "metadata": {},
   "outputs": [
    {
     "data": {
      "text/plain": [
       "RandomizedSearchCV(cv=5, error_score='raise-deprecating',\n",
       "                   estimator=DecisionTreeRegressor(criterion='mse',\n",
       "                                                   max_depth=None,\n",
       "                                                   max_features=None,\n",
       "                                                   max_leaf_nodes=None,\n",
       "                                                   min_impurity_decrease=0.0,\n",
       "                                                   min_impurity_split=None,\n",
       "                                                   min_samples_leaf=1,\n",
       "                                                   min_samples_split=2,\n",
       "                                                   min_weight_fraction_leaf=0.0,\n",
       "                                                   presort=False,\n",
       "                                                   random_state=None,\n",
       "                                                   splitter='best'),\n",
       "                   iid='warn', n_iter=10, n_jobs=None,\n",
       "                   param_distributions={'max_depth': [1, 2, 3, 4, 5],\n",
       "                                        'max_features': [1, 2, 3, 4, 5]},\n",
       "                   pre_dispatch='2*n_jobs', random_state=None, refit=True,\n",
       "                   return_train_score=True, scoring='neg_mean_squared_error',\n",
       "                   verbose=0)"
      ]
     },
     "execution_count": 34,
     "metadata": {},
     "output_type": "execute_result"
    }
   ],
   "source": [
    "tree_reg = DecisionTreeRegressor()\n",
    "rand_search = RandomizedSearchCV(tree_reg, param_distributions=param_grid, cv=5,\n",
    "                                 scoring='neg_mean_squared_error',\n",
    "                                 n_iter=10,\n",
    "                                 return_train_score=True)\n",
    "\n",
    "rand_search.fit(X_train, y_train)"
   ]
  },
  {
   "cell_type": "code",
   "execution_count": 35,
   "metadata": {},
   "outputs": [
    {
     "data": {
      "text/plain": [
       "{'max_features': 3, 'max_depth': 4}"
      ]
     },
     "execution_count": 35,
     "metadata": {},
     "output_type": "execute_result"
    }
   ],
   "source": [
    "rand_search.best_params_"
   ]
  },
  {
   "cell_type": "code",
   "execution_count": 36,
   "metadata": {},
   "outputs": [
    {
     "data": {
      "text/plain": [
       "DecisionTreeRegressor(criterion='mse', max_depth=4, max_features=3,\n",
       "                      max_leaf_nodes=None, min_impurity_decrease=0.0,\n",
       "                      min_impurity_split=None, min_samples_leaf=1,\n",
       "                      min_samples_split=2, min_weight_fraction_leaf=0.0,\n",
       "                      presort=False, random_state=None, splitter='best')"
      ]
     },
     "execution_count": 36,
     "metadata": {},
     "output_type": "execute_result"
    }
   ],
   "source": [
    "rand_search.best_estimator_"
   ]
  },
  {
   "cell_type": "code",
   "execution_count": 37,
   "metadata": {},
   "outputs": [
    {
     "data": {
      "text/plain": [
       "array([27726.56798484, 30218.46455059, 30817.35650271, 29853.88516235,\n",
       "       29474.74844103, 28558.38918743, 30345.67546846, 30027.13044112,\n",
       "       29626.4068557 , 31260.10016165])"
      ]
     },
     "execution_count": 37,
     "metadata": {},
     "output_type": "execute_result"
    }
   ],
   "source": [
    "np.sqrt(-rand_search.cv_results_['mean_train_score'])"
   ]
  },
  {
   "cell_type": "code",
   "execution_count": 38,
   "metadata": {},
   "outputs": [
    {
     "data": {
      "text/plain": [
       "array([27995.07990935, 30126.33724685, 30945.39611261, 30031.38134999,\n",
       "       29687.71506483, 28804.60883615, 30351.27925601, 30275.3517073 ,\n",
       "       29694.92215438, 31314.32371036])"
      ]
     },
     "execution_count": 38,
     "metadata": {},
     "output_type": "execute_result"
    }
   ],
   "source": [
    "np.sqrt(-rand_search.cv_results_['mean_test_score'])"
   ]
  },
  {
   "cell_type": "code",
   "execution_count": 39,
   "metadata": {},
   "outputs": [
    {
     "name": "stdout",
     "output_type": "stream",
     "text": [
      "Promedio GridSearch RMSE:  23347.137638110893\n",
      "Promedio RandomizedSearch RMSE:  29922.63953478298\n"
     ]
    }
   ],
   "source": [
    "# Comparamos los resultados entre Randomizedsearch y GridSearch\n",
    "print(\"Promedio GridSearch RMSE: \", np.sqrt(-grid_search.cv_results_['mean_test_score']).mean())\n",
    "print(\"Promedio RandomizedSearch RMSE: \", np.sqrt(-rand_search.cv_results_['mean_test_score']).mean())"
   ]
  },
  {
   "cell_type": "markdown",
   "metadata": {},
   "source": [
    "__Evaluemos en testing el desempeño de este modelo.__\n",
    "\n",
    "Como venimos trabajando, el resultado en testing será la medición que usaremos como benchmark para comparar este modelos con otros en el futuro, puesto que no estuvo en contacto con el dataset de test para la calibración."
   ]
  },
  {
   "cell_type": "code",
   "execution_count": 40,
   "metadata": {},
   "outputs": [
    {
     "data": {
      "text/plain": [
       "20733.0"
      ]
     },
     "execution_count": 40,
     "metadata": {},
     "output_type": "execute_result"
    }
   ],
   "source": [
    "from sklearn.metrics import mean_squared_error\n",
    "y_opt_pred = optimised_decision_tree.predict(X_test)\n",
    "rmse = np.sqrt(mean_squared_error(y_test, y_opt_pred))\n",
    "np.round(rmse)"
   ]
  },
  {
   "cell_type": "markdown",
   "metadata": {},
   "source": [
    "Vemos los primeros 10 resultados de la predicción del valor de propiedades."
   ]
  },
  {
   "cell_type": "code",
   "execution_count": 41,
   "metadata": {},
   "outputs": [],
   "source": [
    "val_real = pd.Series(y_test.values)\n",
    "val_pred = pd.Series(y_opt_pred)"
   ]
  },
  {
   "cell_type": "code",
   "execution_count": 42,
   "metadata": {},
   "outputs": [],
   "source": [
    "predicciones = pd.concat([val_real.rename('Valor real'),val_pred.rename('Valor Pred') ,abs(val_real-val_pred).rename('Dif(+/-)')] ,  axis=1)"
   ]
  },
  {
   "cell_type": "code",
   "execution_count": 43,
   "metadata": {},
   "outputs": [
    {
     "data": {
      "text/html": [
       "<div>\n",
       "<style scoped>\n",
       "    .dataframe tbody tr th:only-of-type {\n",
       "        vertical-align: middle;\n",
       "    }\n",
       "\n",
       "    .dataframe tbody tr th {\n",
       "        vertical-align: top;\n",
       "    }\n",
       "\n",
       "    .dataframe thead th {\n",
       "        text-align: right;\n",
       "    }\n",
       "</style>\n",
       "<table border=\"1\" class=\"dataframe\">\n",
       "  <thead>\n",
       "    <tr style=\"text-align: right;\">\n",
       "      <th></th>\n",
       "      <th>Valor real</th>\n",
       "      <th>Valor Pred</th>\n",
       "      <th>Dif(+/-)</th>\n",
       "    </tr>\n",
       "  </thead>\n",
       "  <tbody>\n",
       "    <tr>\n",
       "      <th>0</th>\n",
       "      <td>85000.000</td>\n",
       "      <td>134370.370</td>\n",
       "      <td>49370.370</td>\n",
       "    </tr>\n",
       "    <tr>\n",
       "      <th>1</th>\n",
       "      <td>172000.000</td>\n",
       "      <td>141206.667</td>\n",
       "      <td>30793.333</td>\n",
       "    </tr>\n",
       "    <tr>\n",
       "      <th>2</th>\n",
       "      <td>80000.000</td>\n",
       "      <td>123772.638</td>\n",
       "      <td>43772.638</td>\n",
       "    </tr>\n",
       "    <tr>\n",
       "      <th>3</th>\n",
       "      <td>120000.000</td>\n",
       "      <td>162834.615</td>\n",
       "      <td>42834.615</td>\n",
       "    </tr>\n",
       "    <tr>\n",
       "      <th>4</th>\n",
       "      <td>159000.000</td>\n",
       "      <td>150609.059</td>\n",
       "      <td>8390.941</td>\n",
       "    </tr>\n",
       "    <tr>\n",
       "      <th>5</th>\n",
       "      <td>175000.000</td>\n",
       "      <td>151900.716</td>\n",
       "      <td>23099.284</td>\n",
       "    </tr>\n",
       "    <tr>\n",
       "      <th>6</th>\n",
       "      <td>91300.000</td>\n",
       "      <td>77046.164</td>\n",
       "      <td>14253.836</td>\n",
       "    </tr>\n",
       "    <tr>\n",
       "      <th>7</th>\n",
       "      <td>87000.000</td>\n",
       "      <td>111984.000</td>\n",
       "      <td>24984.000</td>\n",
       "    </tr>\n",
       "    <tr>\n",
       "      <th>8</th>\n",
       "      <td>170000.000</td>\n",
       "      <td>135768.902</td>\n",
       "      <td>34231.098</td>\n",
       "    </tr>\n",
       "    <tr>\n",
       "      <th>9</th>\n",
       "      <td>169000.000</td>\n",
       "      <td>142176.792</td>\n",
       "      <td>26823.208</td>\n",
       "    </tr>\n",
       "  </tbody>\n",
       "</table>\n",
       "</div>"
      ],
      "text/plain": [
       "   Valor real  Valor Pred  Dif(+/-)\n",
       "0   85000.000  134370.370 49370.370\n",
       "1  172000.000  141206.667 30793.333\n",
       "2   80000.000  123772.638 43772.638\n",
       "3  120000.000  162834.615 42834.615\n",
       "4  159000.000  150609.059  8390.941\n",
       "5  175000.000  151900.716 23099.284\n",
       "6   91300.000   77046.164 14253.836\n",
       "7   87000.000  111984.000 24984.000\n",
       "8  170000.000  135768.902 34231.098\n",
       "9  169000.000  142176.792 26823.208"
      ]
     },
     "execution_count": 43,
     "metadata": {},
     "output_type": "execute_result"
    }
   ],
   "source": [
    "predicciones.head(10)"
   ]
  }
 ],
 "metadata": {
  "kernelspec": {
   "display_name": "Python 3",
   "language": "python",
   "name": "python3"
  },
  "language_info": {
   "codemirror_mode": {
    "name": "ipython",
    "version": 3
   },
   "file_extension": ".py",
   "mimetype": "text/x-python",
   "name": "python",
   "nbconvert_exporter": "python",
   "pygments_lexer": "ipython3",
   "version": "3.6.9"
  }
 },
 "nbformat": 4,
 "nbformat_minor": 2
}
